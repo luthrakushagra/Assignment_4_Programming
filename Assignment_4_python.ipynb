{
 "cells": [
  {
   "cell_type": "markdown",
   "id": "6e510322",
   "metadata": {},
   "source": [
    "# Assignment_4"
   ]
  },
  {
   "cell_type": "markdown",
   "id": "aee5177f",
   "metadata": {},
   "source": [
    "### Write a Python Program to Find the Factorial of a Number?"
   ]
  },
  {
   "cell_type": "code",
   "execution_count": 20,
   "id": "8c73c430",
   "metadata": {},
   "outputs": [
    {
     "name": "stdout",
     "output_type": "stream",
     "text": [
      "enter the number: 7\n",
      "The factorial is :5040\n"
     ]
    }
   ],
   "source": [
    "x=int(input(\"enter the number: \"))\n",
    "if x<0:\n",
    "    print(\"sorry factorial of negative number doesn't exist\")\n",
    "elif x==0:\n",
    "    print(\"The factorial is 1\")\n",
    "else:\n",
    "    y=1\n",
    "    for i in range(y,x+1):\n",
    "        y=y*i\n",
    "print(f\"The factorial is :{y}\")\n",
    "\n"
   ]
  },
  {
   "cell_type": "markdown",
   "id": "525093e3",
   "metadata": {},
   "source": [
    "### Write a Python Program to Display the multiplication Table?"
   ]
  },
  {
   "cell_type": "code",
   "execution_count": 30,
   "id": "7ab8c68c",
   "metadata": {},
   "outputs": [
    {
     "name": "stdout",
     "output_type": "stream",
     "text": [
      "Enter the number: 6\n",
      "6*1=6\n",
      "6*2=12\n",
      "6*3=18\n",
      "6*4=24\n",
      "6*5=30\n",
      "6*6=36\n",
      "6*7=42\n",
      "6*8=48\n",
      "6*9=54\n",
      "6*10=60\n"
     ]
    }
   ],
   "source": [
    "x=int(input(\"Enter the number: \"))\n",
    "for i in range(1,11):\n",
    "    print(f\"{x}*{i}={x*i}\")\n",
    "    \n"
   ]
  },
  {
   "cell_type": "markdown",
   "id": "f8c5c460",
   "metadata": {},
   "source": [
    "### Write a Python Program to Check Leap Year?"
   ]
  },
  {
   "cell_type": "code",
   "execution_count": 42,
   "id": "59732a4c",
   "metadata": {},
   "outputs": [
    {
     "name": "stdout",
     "output_type": "stream",
     "text": [
      "Enter the year: 200\n",
      "The 200 year is not a leap year\n"
     ]
    }
   ],
   "source": [
    "x=int(input(\"Enter the year: \"))\n",
    "if x%400==0 and x%100==0:\n",
    "    print(f\"The {x} year is leap year\")\n",
    "elif x%4==0 and x%100 !=0:\n",
    "    print(f\"The {x} year is leap year\")\n",
    "else :\n",
    "    print(f\"The {x} year is not a leap year\")\n",
    "    "
   ]
  },
  {
   "cell_type": "markdown",
   "id": "af47bdb5",
   "metadata": {},
   "source": [
    "### Write a Python Program to Print the Fibonacci sequence?"
   ]
  },
  {
   "cell_type": "code",
   "execution_count": 74,
   "id": "8d03a96d",
   "metadata": {},
   "outputs": [
    {
     "name": "stdout",
     "output_type": "stream",
     "text": [
      "Enter the number: 6\n",
      "0\n",
      "1\n",
      "1\n",
      "2\n",
      "3\n",
      "5\n"
     ]
    }
   ],
   "source": [
    "#011235813\n",
    "x=int(input(\"Enter the number: \"))\n",
    "a=0\n",
    "b=1\n",
    "for i in range(a,x):\n",
    "    print(a)\n",
    "    c=a+b\n",
    "    a=b\n",
    "    b=c"
   ]
  },
  {
   "cell_type": "markdown",
   "id": "3d4d5c7d",
   "metadata": {},
   "source": [
    "### Write a Python Program to Check Armstrong Number?"
   ]
  },
  {
   "cell_type": "code",
   "execution_count": 28,
   "id": "cbfe16f3",
   "metadata": {},
   "outputs": [
    {
     "name": "stdout",
     "output_type": "stream",
     "text": [
      "enter the number8208\n",
      "8208\n",
      "The number is Armstrong\n"
     ]
    }
   ],
   "source": [
    "x=input(\"enter the number\")\n",
    "n=len(x)\n",
    "Sum=0\n",
    "for i in x:\n",
    "    k=int(i)**n\n",
    "    Sum=Sum+k\n",
    "print(Sum)\n",
    "\n",
    "if Sum==int(x):\n",
    "    print(\"The number is Armstrong\")\n",
    "else:\n",
    "    print(\"The number is not Armstrong\")\n",
    "\n",
    "\n",
    "   \n",
    "    \n",
    "    \n",
    "\n"
   ]
  },
  {
   "cell_type": "markdown",
   "id": "42b56028",
   "metadata": {},
   "source": [
    "# Another method"
   ]
  },
  {
   "cell_type": "code",
   "execution_count": 72,
   "id": "fe9a2ed2",
   "metadata": {},
   "outputs": [
    {
     "name": "stdout",
     "output_type": "stream",
     "text": [
      "Enter the number 8208\n",
      "It is Armstrong number\n"
     ]
    }
   ],
   "source": [
    "x=int(input(\"Enter the number \"))\n",
    "X=x\n",
    "order=len(str(x))\n",
    "Sum=0\n",
    "while((x)>0):\n",
    "    digit=x%10\n",
    "    Sum=Sum+(digit**order)\n",
    "    x=x//10\n",
    "if Sum==X:\n",
    "    print(\"It is Armstrong number\")\n",
    "else:\n",
    "    print('It is not a Armstring number')\n",
    "\n",
    "    "
   ]
  },
  {
   "cell_type": "markdown",
   "id": "60b6e181",
   "metadata": {},
   "source": [
    "# Write a Python Program to Find Armstrong Number in an Interval?\n"
   ]
  },
  {
   "cell_type": "code",
   "execution_count": 82,
   "id": "ed599803",
   "metadata": {},
   "outputs": [
    {
     "name": "stdout",
     "output_type": "stream",
     "text": [
      "Enter the lower range100\n",
      "Enter the upper range1000\n",
      "153\n",
      "370\n",
      "371\n",
      "407\n"
     ]
    }
   ],
   "source": [
    "a=int(input(\"Enter the lower range: \"))\n",
    "b=int(input(\"Enter the upper range: \"))\n",
    "for i in range(a,b):\n",
    "    g=i\n",
    "    order=len(str(i))\n",
    "    Sum=0\n",
    "    while (i>0):\n",
    "        digit=i%10\n",
    "        Sum=Sum+(digit**order)\n",
    "        i=i//10\n",
    "    if Sum==g:\n",
    "        print(g)\n"
   ]
  },
  {
   "cell_type": "markdown",
   "id": "64b0df44",
   "metadata": {},
   "source": [
    "# #Another Method"
   ]
  },
  {
   "cell_type": "code",
   "execution_count": 1,
   "id": "cc894296",
   "metadata": {},
   "outputs": [
    {
     "name": "stdout",
     "output_type": "stream",
     "text": [
      "Enter the number100\n",
      "Enter the number1000\n",
      "153\n",
      "370\n",
      "371\n",
      "407\n"
     ]
    }
   ],
   "source": [
    "x=int(input(\"Enter the number\"))\n",
    "y=int(input(\"Enter the number\"))\n",
    "for i in range(x,y):\n",
    "    b=0\n",
    "    for k in range(len(str(i))):\n",
    "        a=(int(str(i)[k])**3)\n",
    "        b=b+a\n",
    "    if b==int(i):    \n",
    "        print(b)"
   ]
  },
  {
   "cell_type": "markdown",
   "id": "a939fbc3",
   "metadata": {},
   "source": [
    "#     Write a Python Program to Find the Sum of Natural Numbers?\n"
   ]
  },
  {
   "cell_type": "code",
   "execution_count": 2,
   "id": "dcc59880",
   "metadata": {},
   "outputs": [
    {
     "name": "stdout",
     "output_type": "stream",
     "text": [
      "Tell me the range16\n",
      "136\n"
     ]
    }
   ],
   "source": [
    "x=int(input(\"Tell me the range\"))\n",
    "a=0\n",
    "for i in range(1,x+1):\n",
    "    a=a+i\n",
    "print(a)"
   ]
  },
  {
   "cell_type": "code",
   "execution_count": null,
   "id": "07535df5",
   "metadata": {},
   "outputs": [],
   "source": []
  },
  {
   "cell_type": "code",
   "execution_count": null,
   "id": "87b027c3",
   "metadata": {},
   "outputs": [],
   "source": []
  }
 ],
 "metadata": {
  "kernelspec": {
   "display_name": "Python 3 (ipykernel)",
   "language": "python",
   "name": "python3"
  },
  "language_info": {
   "codemirror_mode": {
    "name": "ipython",
    "version": 3
   },
   "file_extension": ".py",
   "mimetype": "text/x-python",
   "name": "python",
   "nbconvert_exporter": "python",
   "pygments_lexer": "ipython3",
   "version": "3.9.12"
  }
 },
 "nbformat": 4,
 "nbformat_minor": 5
}
